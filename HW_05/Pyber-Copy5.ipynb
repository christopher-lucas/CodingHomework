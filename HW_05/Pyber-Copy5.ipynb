{
 "cells": [
  {
   "cell_type": "code",
   "execution_count": 310,
   "metadata": {
    "collapsed": true
   },
   "outputs": [],
   "source": [
    "import os\n",
    "import pandas as pd\n",
    "import numpy as np\n",
    "import matplotlib.pyplot as plt"
   ]
  },
  {
   "cell_type": "code",
   "execution_count": 311,
   "metadata": {},
   "outputs": [
    {
     "data": {
      "text/plain": [
       "(2407, 6)"
      ]
     },
     "execution_count": 311,
     "metadata": {},
     "output_type": "execute_result"
    }
   ],
   "source": [
    "CityData = os.path.join('05-Matplotlib', 'Instructions', 'Pyber', 'raw_data','city_data.csv')\n",
    "RideData = os.path.join('05-Matplotlib', 'Instructions', 'Pyber', 'raw_data','ride_data.csv')\n",
    "city_df = pd.read_csv(CityData)\n",
    "ride_df = pd.read_csv(RideData)\n",
    "pyber_df = pd.merge(city_df, ride_df, on='city', how='left')\n",
    "pyber_df.shape"
   ]
  },
  {
   "cell_type": "code",
   "execution_count": 312,
   "metadata": {},
   "outputs": [
    {
     "data": {
      "text/html": [
       "<div>\n",
       "<style>\n",
       "    .dataframe thead tr:only-child th {\n",
       "        text-align: right;\n",
       "    }\n",
       "\n",
       "    .dataframe thead th {\n",
       "        text-align: left;\n",
       "    }\n",
       "\n",
       "    .dataframe tbody tr th {\n",
       "        vertical-align: top;\n",
       "    }\n",
       "</style>\n",
       "<table border=\"1\" class=\"dataframe\">\n",
       "  <thead>\n",
       "    <tr style=\"text-align: right;\">\n",
       "      <th></th>\n",
       "      <th>city</th>\n",
       "      <th>driver_count</th>\n",
       "      <th>type</th>\n",
       "      <th>date</th>\n",
       "      <th>fare</th>\n",
       "      <th>ride_id</th>\n",
       "    </tr>\n",
       "  </thead>\n",
       "  <tbody>\n",
       "    <tr>\n",
       "      <th>0</th>\n",
       "      <td>Kelseyland</td>\n",
       "      <td>63</td>\n",
       "      <td>Urban</td>\n",
       "      <td>2016-08-19 04:27:52</td>\n",
       "      <td>5.51</td>\n",
       "      <td>6246006544795</td>\n",
       "    </tr>\n",
       "    <tr>\n",
       "      <th>1</th>\n",
       "      <td>Kelseyland</td>\n",
       "      <td>63</td>\n",
       "      <td>Urban</td>\n",
       "      <td>2016-04-17 06:59:50</td>\n",
       "      <td>5.54</td>\n",
       "      <td>7466473222333</td>\n",
       "    </tr>\n",
       "    <tr>\n",
       "      <th>2</th>\n",
       "      <td>Kelseyland</td>\n",
       "      <td>63</td>\n",
       "      <td>Urban</td>\n",
       "      <td>2016-05-04 15:06:07</td>\n",
       "      <td>30.54</td>\n",
       "      <td>2140501382736</td>\n",
       "    </tr>\n",
       "    <tr>\n",
       "      <th>3</th>\n",
       "      <td>Kelseyland</td>\n",
       "      <td>63</td>\n",
       "      <td>Urban</td>\n",
       "      <td>2016-01-25 20:44:56</td>\n",
       "      <td>12.08</td>\n",
       "      <td>1896987891309</td>\n",
       "    </tr>\n",
       "    <tr>\n",
       "      <th>4</th>\n",
       "      <td>Kelseyland</td>\n",
       "      <td>63</td>\n",
       "      <td>Urban</td>\n",
       "      <td>2016-08-09 18:19:47</td>\n",
       "      <td>17.91</td>\n",
       "      <td>8784212854829</td>\n",
       "    </tr>\n",
       "  </tbody>\n",
       "</table>\n",
       "</div>"
      ],
      "text/plain": [
       "         city  driver_count   type                 date   fare        ride_id\n",
       "0  Kelseyland            63  Urban  2016-08-19 04:27:52   5.51  6246006544795\n",
       "1  Kelseyland            63  Urban  2016-04-17 06:59:50   5.54  7466473222333\n",
       "2  Kelseyland            63  Urban  2016-05-04 15:06:07  30.54  2140501382736\n",
       "3  Kelseyland            63  Urban  2016-01-25 20:44:56  12.08  1896987891309\n",
       "4  Kelseyland            63  Urban  2016-08-09 18:19:47  17.91  8784212854829"
      ]
     },
     "execution_count": 312,
     "metadata": {},
     "output_type": "execute_result"
    }
   ],
   "source": [
    "pyber_df.head()"
   ]
  },
  {
   "cell_type": "code",
   "execution_count": 313,
   "metadata": {},
   "outputs": [
    {
     "data": {
      "text/plain": [
       "city\n",
       "Alvarezhaven    23.928710\n",
       "Alyssaberg      20.609615\n",
       "Anitamouth      37.315556\n",
       "Antoniomouth    23.625000\n",
       "Aprilchester    21.981579\n",
       "Name: fare, dtype: float64"
      ]
     },
     "execution_count": 313,
     "metadata": {},
     "output_type": "execute_result"
    }
   ],
   "source": [
    "mean_fare = pyber_df.groupby(['city'])['fare'].mean()\n",
    "mean_fare.head()"
   ]
  },
  {
   "cell_type": "code",
   "execution_count": 314,
   "metadata": {},
   "outputs": [
    {
     "data": {
      "text/plain": [
       "city\n",
       "Alvarezhaven    31\n",
       "Alyssaberg      26\n",
       "Anitamouth       9\n",
       "Antoniomouth    22\n",
       "Aprilchester    19\n",
       "Name: ride_id, dtype: int64"
      ]
     },
     "execution_count": 314,
     "metadata": {},
     "output_type": "execute_result"
    }
   ],
   "source": [
    "total_rides = pyber_df.groupby(['city'])['ride_id'].count()\n",
    "total_rides.head()"
   ]
  },
  {
   "cell_type": "code",
   "execution_count": 315,
   "metadata": {},
   "outputs": [
    {
     "data": {
      "text/plain": [
       "0      63\n",
       "1       8\n",
       "2      12\n",
       "3      34\n",
       "4      52\n",
       "5       4\n",
       "6      70\n",
       "7      37\n",
       "8      70\n",
       "9      66\n",
       "10     34\n",
       "11     67\n",
       "12     55\n",
       "13     28\n",
       "14     15\n",
       "15     12\n",
       "16     61\n",
       "17     13\n",
       "18     67\n",
       "19     46\n",
       "20      7\n",
       "21     11\n",
       "22     42\n",
       "23     31\n",
       "24     41\n",
       "25     70\n",
       "26     47\n",
       "27     60\n",
       "28     64\n",
       "29     69\n",
       "       ..\n",
       "96     20\n",
       "97     11\n",
       "98     13\n",
       "99     17\n",
       "100     3\n",
       "101    26\n",
       "102    26\n",
       "103    26\n",
       "104    21\n",
       "105    18\n",
       "106     5\n",
       "107    22\n",
       "108     3\n",
       "109     3\n",
       "110     3\n",
       "111     6\n",
       "112     3\n",
       "113     6\n",
       "114     9\n",
       "115     4\n",
       "116     3\n",
       "117     3\n",
       "118     7\n",
       "119     6\n",
       "120    10\n",
       "121     6\n",
       "122     9\n",
       "123    10\n",
       "124     8\n",
       "125     5\n",
       "Name: driver_count, Length: 126, dtype: int64"
      ]
     },
     "execution_count": 315,
     "metadata": {},
     "output_type": "execute_result"
    }
   ],
   "source": [
    "total_drivers = city_df.groupby(['city'])['driver_count']\n",
    "total_drivers.head()"
   ]
  },
  {
   "cell_type": "code",
   "execution_count": 317,
   "metadata": {},
   "outputs": [
    {
     "data": {
      "text/html": [
       "<div>\n",
       "<style>\n",
       "    .dataframe thead tr:only-child th {\n",
       "        text-align: right;\n",
       "    }\n",
       "\n",
       "    .dataframe thead th {\n",
       "        text-align: left;\n",
       "    }\n",
       "\n",
       "    .dataframe tbody tr th {\n",
       "        vertical-align: top;\n",
       "    }\n",
       "</style>\n",
       "<table border=\"1\" class=\"dataframe\">\n",
       "  <thead>\n",
       "    <tr style=\"text-align: right;\">\n",
       "      <th></th>\n",
       "      <th>driver_count</th>\n",
       "    </tr>\n",
       "  </thead>\n",
       "  <tbody>\n",
       "    <tr>\n",
       "      <th>0</th>\n",
       "      <td>63</td>\n",
       "    </tr>\n",
       "    <tr>\n",
       "      <th>1</th>\n",
       "      <td>8</td>\n",
       "    </tr>\n",
       "    <tr>\n",
       "      <th>2</th>\n",
       "      <td>12</td>\n",
       "    </tr>\n",
       "    <tr>\n",
       "      <th>3</th>\n",
       "      <td>34</td>\n",
       "    </tr>\n",
       "    <tr>\n",
       "      <th>4</th>\n",
       "      <td>52</td>\n",
       "    </tr>\n",
       "  </tbody>\n",
       "</table>\n",
       "</div>"
      ],
      "text/plain": [
       "   driver_count\n",
       "0            63\n",
       "1             8\n",
       "2            12\n",
       "3            34\n",
       "4            52"
      ]
     },
     "execution_count": 317,
     "metadata": {},
     "output_type": "execute_result"
    }
   ],
   "source": [
    "total_drivers_df = city_df[['driver_count']]\n",
    "total_drivers_df.head()"
   ]
  },
  {
   "cell_type": "markdown",
   "metadata": {},
   "source": [
    "##### total_drivers.dtypes"
   ]
  },
  {
   "cell_type": "code",
   "execution_count": 319,
   "metadata": {},
   "outputs": [
    {
     "data": {
      "image/png": "[encoded data removed]",
      "text/plain": [
       "<matplotlib.figure.Figure at 0x1171fba90>"
      ]
     },
     "metadata": {},
     "output_type": "display_data"
    }
   ],
   "source": [
    "import matplotlib.pyplot as plt\n",
    "import numpy as np\n",
    " \n",
    "# create data\n",
    "x = mean_fare\n",
    "y = total_rides\n",
    "z = total_drivers_df\n",
    " \n",
    "# use the scatter function\n",
    "plt.scatter(x, y, s=z*3, alpha=0.5)\n",
    "plt.title('Pyber Data')\n",
    "plt.xlabel('Total Rides by City')\n",
    "plt.ylabel('Mean Fare by City')\n",
    "plt.show()"
   ]
  },
  {
   "cell_type": "code",
   "execution_count": 320,
   "metadata": {},
   "outputs": [
    {
     "data": {
      "text/plain": [
       "64669.11999999995"
      ]
     },
     "execution_count": 320,
     "metadata": {},
     "output_type": "execute_result"
    }
   ],
   "source": [
    "total_fares = pyber_df[('fare')].sum()\n",
    "total_fares"
   ]
  },
  {
   "cell_type": "code",
   "execution_count": 340,
   "metadata": {},
   "outputs": [
    {
     "data": {
      "text/plain": [
       "2407"
      ]
     },
     "execution_count": 340,
     "metadata": {},
     "output_type": "execute_result"
    }
   ],
   "source": [
    "total_rides = pyber_df[('ride_id')].count()\n",
    "total_rides"
   ]
  },
  {
   "cell_type": "code",
   "execution_count": 341,
   "metadata": {},
   "outputs": [
    {
     "data": {
      "text/html": [
       "<div>\n",
       "<style>\n",
       "    .dataframe thead tr:only-child th {\n",
       "        text-align: right;\n",
       "    }\n",
       "\n",
       "    .dataframe thead th {\n",
       "        text-align: left;\n",
       "    }\n",
       "\n",
       "    .dataframe tbody tr th {\n",
       "        vertical-align: top;\n",
       "    }\n",
       "</style>\n",
       "<table border=\"1\" class=\"dataframe\">\n",
       "  <thead>\n",
       "    <tr style=\"text-align: right;\">\n",
       "      <th></th>\n",
       "      <th>city</th>\n",
       "      <th>driver_count</th>\n",
       "      <th>type</th>\n",
       "      <th>date</th>\n",
       "      <th>fare</th>\n",
       "      <th>ride_id</th>\n",
       "    </tr>\n",
       "  </thead>\n",
       "  <tbody>\n",
       "    <tr>\n",
       "      <th>2282</th>\n",
       "      <td>South Elizabethmouth</td>\n",
       "      <td>3</td>\n",
       "      <td>Rural</td>\n",
       "      <td>2016-04-03 11:13:07</td>\n",
       "      <td>22.79</td>\n",
       "      <td>8193837300497</td>\n",
       "    </tr>\n",
       "    <tr>\n",
       "      <th>2283</th>\n",
       "      <td>South Elizabethmouth</td>\n",
       "      <td>3</td>\n",
       "      <td>Rural</td>\n",
       "      <td>2016-03-11 12:27:01</td>\n",
       "      <td>26.72</td>\n",
       "      <td>4943246873754</td>\n",
       "    </tr>\n",
       "    <tr>\n",
       "      <th>2284</th>\n",
       "      <td>South Elizabethmouth</td>\n",
       "      <td>3</td>\n",
       "      <td>Rural</td>\n",
       "      <td>2016-11-23 07:47:18</td>\n",
       "      <td>46.39</td>\n",
       "      <td>1939838068038</td>\n",
       "    </tr>\n",
       "    <tr>\n",
       "      <th>2285</th>\n",
       "      <td>South Elizabethmouth</td>\n",
       "      <td>3</td>\n",
       "      <td>Rural</td>\n",
       "      <td>2016-07-19 09:35:59</td>\n",
       "      <td>31.09</td>\n",
       "      <td>2959749591417</td>\n",
       "    </tr>\n",
       "    <tr>\n",
       "      <th>2286</th>\n",
       "      <td>South Elizabethmouth</td>\n",
       "      <td>3</td>\n",
       "      <td>Rural</td>\n",
       "      <td>2016-04-21 10:20:09</td>\n",
       "      <td>16.50</td>\n",
       "      <td>5702608059064</td>\n",
       "    </tr>\n",
       "  </tbody>\n",
       "</table>\n",
       "</div>"
      ],
      "text/plain": [
       "                      city  driver_count   type                 date   fare  \\\n",
       "2282  South Elizabethmouth             3  Rural  2016-04-03 11:13:07  22.79   \n",
       "2283  South Elizabethmouth             3  Rural  2016-03-11 12:27:01  26.72   \n",
       "2284  South Elizabethmouth             3  Rural  2016-11-23 07:47:18  46.39   \n",
       "2285  South Elizabethmouth             3  Rural  2016-07-19 09:35:59  31.09   \n",
       "2286  South Elizabethmouth             3  Rural  2016-04-21 10:20:09  16.50   \n",
       "\n",
       "            ride_id  \n",
       "2282  8193837300497  \n",
       "2283  4943246873754  \n",
       "2284  1939838068038  \n",
       "2285  2959749591417  \n",
       "2286  5702608059064  "
      ]
     },
     "execution_count": 341,
     "metadata": {},
     "output_type": "execute_result"
    }
   ],
   "source": [
    "rural_cites = pyber_df[(pyber_df.type == 'Rural')]\n",
    "rural_cites.head()\n"
   ]
  },
  {
   "cell_type": "code",
   "execution_count": 342,
   "metadata": {},
   "outputs": [
    {
     "data": {
      "text/html": [
       "<div>\n",
       "<style>\n",
       "    .dataframe thead tr:only-child th {\n",
       "        text-align: right;\n",
       "    }\n",
       "\n",
       "    .dataframe thead th {\n",
       "        text-align: left;\n",
       "    }\n",
       "\n",
       "    .dataframe tbody tr th {\n",
       "        vertical-align: top;\n",
       "    }\n",
       "</style>\n",
       "<table border=\"1\" class=\"dataframe\">\n",
       "  <thead>\n",
       "    <tr style=\"text-align: right;\">\n",
       "      <th></th>\n",
       "      <th>city</th>\n",
       "      <th>driver_count</th>\n",
       "      <th>type</th>\n",
       "      <th>date</th>\n",
       "      <th>fare</th>\n",
       "      <th>ride_id</th>\n",
       "    </tr>\n",
       "  </thead>\n",
       "  <tbody>\n",
       "    <tr>\n",
       "      <th>2282</th>\n",
       "      <td>South Elizabethmouth</td>\n",
       "      <td>3</td>\n",
       "      <td>Rural</td>\n",
       "      <td>2016-04-03 11:13:07</td>\n",
       "      <td>22.79</td>\n",
       "      <td>8193837300497</td>\n",
       "    </tr>\n",
       "    <tr>\n",
       "      <th>2283</th>\n",
       "      <td>South Elizabethmouth</td>\n",
       "      <td>3</td>\n",
       "      <td>Rural</td>\n",
       "      <td>2016-03-11 12:27:01</td>\n",
       "      <td>26.72</td>\n",
       "      <td>4943246873754</td>\n",
       "    </tr>\n",
       "    <tr>\n",
       "      <th>2284</th>\n",
       "      <td>South Elizabethmouth</td>\n",
       "      <td>3</td>\n",
       "      <td>Rural</td>\n",
       "      <td>2016-11-23 07:47:18</td>\n",
       "      <td>46.39</td>\n",
       "      <td>1939838068038</td>\n",
       "    </tr>\n",
       "    <tr>\n",
       "      <th>2285</th>\n",
       "      <td>South Elizabethmouth</td>\n",
       "      <td>3</td>\n",
       "      <td>Rural</td>\n",
       "      <td>2016-07-19 09:35:59</td>\n",
       "      <td>31.09</td>\n",
       "      <td>2959749591417</td>\n",
       "    </tr>\n",
       "    <tr>\n",
       "      <th>2286</th>\n",
       "      <td>South Elizabethmouth</td>\n",
       "      <td>3</td>\n",
       "      <td>Rural</td>\n",
       "      <td>2016-04-21 10:20:09</td>\n",
       "      <td>16.50</td>\n",
       "      <td>5702608059064</td>\n",
       "    </tr>\n",
       "  </tbody>\n",
       "</table>\n",
       "</div>"
      ],
      "text/plain": [
       "                      city  driver_count   type                 date   fare  \\\n",
       "2282  South Elizabethmouth             3  Rural  2016-04-03 11:13:07  22.79   \n",
       "2283  South Elizabethmouth             3  Rural  2016-03-11 12:27:01  26.72   \n",
       "2284  South Elizabethmouth             3  Rural  2016-11-23 07:47:18  46.39   \n",
       "2285  South Elizabethmouth             3  Rural  2016-07-19 09:35:59  31.09   \n",
       "2286  South Elizabethmouth             3  Rural  2016-04-21 10:20:09  16.50   \n",
       "\n",
       "            ride_id  \n",
       "2282  8193837300497  \n",
       "2283  4943246873754  \n",
       "2284  1939838068038  \n",
       "2285  2959749591417  \n",
       "2286  5702608059064  "
      ]
     },
     "execution_count": 342,
     "metadata": {},
     "output_type": "execute_result"
    }
   ],
   "source": [
    "rural_cites_df = pd.DataFrame(pyber_df[(pyber_df.type == 'Rural')])\n",
    "rural_cites_df.head()"
   ]
  },
  {
   "cell_type": "code",
   "execution_count": 343,
   "metadata": {},
   "outputs": [
    {
     "data": {
      "text/plain": [
       "4255.09"
      ]
     },
     "execution_count": 343,
     "metadata": {},
     "output_type": "execute_result"
    }
   ],
   "source": [
    "total_rural_fares = rural_cites_df[('fare')].sum()\n",
    "total_rural_fares"
   ]
  },
  {
   "cell_type": "code",
   "execution_count": 344,
   "metadata": {},
   "outputs": [
    {
     "data": {
      "text/plain": [
       "0.06579786457585944"
      ]
     },
     "execution_count": 344,
     "metadata": {},
     "output_type": "execute_result"
    }
   ],
   "source": [
    "perc_total_fares_rural = total_rural_fares / total_fares\n",
    "perc_total_fares_rural"
   ]
  },
  {
   "cell_type": "code",
   "execution_count": 345,
   "metadata": {},
   "outputs": [
    {
     "data": {
      "text/html": [
       "<div>\n",
       "<style>\n",
       "    .dataframe thead tr:only-child th {\n",
       "        text-align: right;\n",
       "    }\n",
       "\n",
       "    .dataframe thead th {\n",
       "        text-align: left;\n",
       "    }\n",
       "\n",
       "    .dataframe tbody tr th {\n",
       "        vertical-align: top;\n",
       "    }\n",
       "</style>\n",
       "<table border=\"1\" class=\"dataframe\">\n",
       "  <thead>\n",
       "    <tr style=\"text-align: right;\">\n",
       "      <th></th>\n",
       "      <th>city</th>\n",
       "      <th>driver_count</th>\n",
       "      <th>type</th>\n",
       "      <th>date</th>\n",
       "      <th>fare</th>\n",
       "      <th>ride_id</th>\n",
       "    </tr>\n",
       "  </thead>\n",
       "  <tbody>\n",
       "    <tr>\n",
       "      <th>1625</th>\n",
       "      <td>Carrollbury</td>\n",
       "      <td>4</td>\n",
       "      <td>Suburban</td>\n",
       "      <td>2016-05-09 03:12:10</td>\n",
       "      <td>25.00</td>\n",
       "      <td>485795568537</td>\n",
       "    </tr>\n",
       "    <tr>\n",
       "      <th>1626</th>\n",
       "      <td>Carrollbury</td>\n",
       "      <td>4</td>\n",
       "      <td>Suburban</td>\n",
       "      <td>2016-06-09 05:04:24</td>\n",
       "      <td>49.47</td>\n",
       "      <td>617204620844</td>\n",
       "    </tr>\n",
       "    <tr>\n",
       "      <th>1627</th>\n",
       "      <td>Carrollbury</td>\n",
       "      <td>4</td>\n",
       "      <td>Suburban</td>\n",
       "      <td>2016-05-20 06:12:36</td>\n",
       "      <td>35.33</td>\n",
       "      <td>73368831241</td>\n",
       "    </tr>\n",
       "    <tr>\n",
       "      <th>1628</th>\n",
       "      <td>Carrollbury</td>\n",
       "      <td>4</td>\n",
       "      <td>Suburban</td>\n",
       "      <td>2016-03-21 17:31:26</td>\n",
       "      <td>20.26</td>\n",
       "      <td>7948046018548</td>\n",
       "    </tr>\n",
       "    <tr>\n",
       "      <th>1629</th>\n",
       "      <td>Carrollbury</td>\n",
       "      <td>4</td>\n",
       "      <td>Suburban</td>\n",
       "      <td>2016-08-20 11:20:51</td>\n",
       "      <td>46.67</td>\n",
       "      <td>4786094151694</td>\n",
       "    </tr>\n",
       "  </tbody>\n",
       "</table>\n",
       "</div>"
      ],
      "text/plain": [
       "             city  driver_count      type                 date   fare  \\\n",
       "1625  Carrollbury             4  Suburban  2016-05-09 03:12:10  25.00   \n",
       "1626  Carrollbury             4  Suburban  2016-06-09 05:04:24  49.47   \n",
       "1627  Carrollbury             4  Suburban  2016-05-20 06:12:36  35.33   \n",
       "1628  Carrollbury             4  Suburban  2016-03-21 17:31:26  20.26   \n",
       "1629  Carrollbury             4  Suburban  2016-08-20 11:20:51  46.67   \n",
       "\n",
       "            ride_id  \n",
       "1625   485795568537  \n",
       "1626   617204620844  \n",
       "1627    73368831241  \n",
       "1628  7948046018548  \n",
       "1629  4786094151694  "
      ]
     },
     "execution_count": 345,
     "metadata": {},
     "output_type": "execute_result"
    }
   ],
   "source": [
    "suburban_cites_df = pd.DataFrame(pyber_df[(pyber_df.type == 'Suburban')])\n",
    "suburban_cites_df.head()"
   ]
  },
  {
   "cell_type": "code",
   "execution_count": 346,
   "metadata": {},
   "outputs": [
    {
     "data": {
      "text/html": [
       "<div>\n",
       "<style>\n",
       "    .dataframe thead tr:only-child th {\n",
       "        text-align: right;\n",
       "    }\n",
       "\n",
       "    .dataframe thead th {\n",
       "        text-align: left;\n",
       "    }\n",
       "\n",
       "    .dataframe tbody tr th {\n",
       "        vertical-align: top;\n",
       "    }\n",
       "</style>\n",
       "<table border=\"1\" class=\"dataframe\">\n",
       "  <thead>\n",
       "    <tr style=\"text-align: right;\">\n",
       "      <th></th>\n",
       "      <th>city</th>\n",
       "      <th>driver_count</th>\n",
       "      <th>type</th>\n",
       "      <th>date</th>\n",
       "      <th>fare</th>\n",
       "      <th>ride_id</th>\n",
       "    </tr>\n",
       "  </thead>\n",
       "  <tbody>\n",
       "    <tr>\n",
       "      <th>0</th>\n",
       "      <td>Kelseyland</td>\n",
       "      <td>63</td>\n",
       "      <td>Urban</td>\n",
       "      <td>2016-08-19 04:27:52</td>\n",
       "      <td>5.51</td>\n",
       "      <td>6246006544795</td>\n",
       "    </tr>\n",
       "    <tr>\n",
       "      <th>1</th>\n",
       "      <td>Kelseyland</td>\n",
       "      <td>63</td>\n",
       "      <td>Urban</td>\n",
       "      <td>2016-04-17 06:59:50</td>\n",
       "      <td>5.54</td>\n",
       "      <td>7466473222333</td>\n",
       "    </tr>\n",
       "    <tr>\n",
       "      <th>2</th>\n",
       "      <td>Kelseyland</td>\n",
       "      <td>63</td>\n",
       "      <td>Urban</td>\n",
       "      <td>2016-05-04 15:06:07</td>\n",
       "      <td>30.54</td>\n",
       "      <td>2140501382736</td>\n",
       "    </tr>\n",
       "    <tr>\n",
       "      <th>3</th>\n",
       "      <td>Kelseyland</td>\n",
       "      <td>63</td>\n",
       "      <td>Urban</td>\n",
       "      <td>2016-01-25 20:44:56</td>\n",
       "      <td>12.08</td>\n",
       "      <td>1896987891309</td>\n",
       "    </tr>\n",
       "    <tr>\n",
       "      <th>4</th>\n",
       "      <td>Kelseyland</td>\n",
       "      <td>63</td>\n",
       "      <td>Urban</td>\n",
       "      <td>2016-08-09 18:19:47</td>\n",
       "      <td>17.91</td>\n",
       "      <td>8784212854829</td>\n",
       "    </tr>\n",
       "  </tbody>\n",
       "</table>\n",
       "</div>"
      ],
      "text/plain": [
       "         city  driver_count   type                 date   fare        ride_id\n",
       "0  Kelseyland            63  Urban  2016-08-19 04:27:52   5.51  6246006544795\n",
       "1  Kelseyland            63  Urban  2016-04-17 06:59:50   5.54  7466473222333\n",
       "2  Kelseyland            63  Urban  2016-05-04 15:06:07  30.54  2140501382736\n",
       "3  Kelseyland            63  Urban  2016-01-25 20:44:56  12.08  1896987891309\n",
       "4  Kelseyland            63  Urban  2016-08-09 18:19:47  17.91  8784212854829"
      ]
     },
     "execution_count": 346,
     "metadata": {},
     "output_type": "execute_result"
    }
   ],
   "source": [
    "urban_cites_df = pd.DataFrame(pyber_df[(pyber_df.type == 'Urban')])\n",
    "urban_cites_df.head()"
   ]
  },
  {
   "cell_type": "code",
   "execution_count": 347,
   "metadata": {},
   "outputs": [
    {
     "data": {
      "text/plain": [
       "20335.689999999973"
      ]
     },
     "execution_count": 347,
     "metadata": {},
     "output_type": "execute_result"
    }
   ],
   "source": [
    "total_suburban_fares = suburban_cites_df[('fare')].sum()\n",
    "total_suburban_fares"
   ]
  },
  {
   "cell_type": "code",
   "execution_count": 348,
   "metadata": {},
   "outputs": [
    {
     "data": {
      "text/plain": [
       "40078.33999999999"
      ]
     },
     "execution_count": 348,
     "metadata": {},
     "output_type": "execute_result"
    }
   ],
   "source": [
    "total_urban_fares = urban_cites_df[('fare')].sum()\n",
    "total_urban_fares"
   ]
  },
  {
   "cell_type": "code",
   "execution_count": 349,
   "metadata": {},
   "outputs": [
    {
     "data": {
      "text/plain": [
       "125"
      ]
     },
     "execution_count": 349,
     "metadata": {},
     "output_type": "execute_result"
    }
   ],
   "source": [
    "total_rural_rides = rural_cites_df[('ride_id')].count()\n",
    "total_rural_rides"
   ]
  },
  {
   "cell_type": "code",
   "execution_count": 350,
   "metadata": {},
   "outputs": [
    {
     "data": {
      "text/plain": [
       "657"
      ]
     },
     "execution_count": 350,
     "metadata": {},
     "output_type": "execute_result"
    }
   ],
   "source": [
    "total_suburban_rides = suburban_cites_df[('ride_id')].count()\n",
    "total_suburban_rides"
   ]
  },
  {
   "cell_type": "code",
   "execution_count": 351,
   "metadata": {},
   "outputs": [
    {
     "data": {
      "text/plain": [
       "1625"
      ]
     },
     "execution_count": 351,
     "metadata": {},
     "output_type": "execute_result"
    }
   ],
   "source": [
    "total_urban_rides = urban_cites_df[('ride_id')].count()\n",
    "total_urban_rides"
   ]
  },
  {
   "cell_type": "code",
   "execution_count": 352,
   "metadata": {},
   "outputs": [
    {
     "data": {
      "text/plain": [
       "0.314457503055554"
      ]
     },
     "execution_count": 352,
     "metadata": {},
     "output_type": "execute_result"
    }
   ],
   "source": [
    "perc_total_fares_suburban = total_suburban_fares / total_fares\n",
    "perc_total_fares_suburban"
   ]
  },
  {
   "cell_type": "code",
   "execution_count": 358,
   "metadata": {},
   "outputs": [
    {
     "data": {
      "text/plain": [
       "0.051931865392604901"
      ]
     },
     "execution_count": 358,
     "metadata": {},
     "output_type": "execute_result"
    }
   ],
   "source": [
    "perc_total_rides_rural = total_rural_rides / total_rides\n",
    "perc_total_rides_rural"
   ]
  },
  {
   "cell_type": "code",
   "execution_count": 356,
   "metadata": {},
   "outputs": [
    {
     "data": {
      "text/plain": [
       "0.67511425010386372"
      ]
     },
     "execution_count": 356,
     "metadata": {},
     "output_type": "execute_result"
    }
   ],
   "source": [
    "perc_total_rides_urban = total_urban_rides / total_rides\n",
    "perc_total_rides_urban"
   ]
  },
  {
   "cell_type": "code",
   "execution_count": 357,
   "metadata": {},
   "outputs": [
    {
     "data": {
      "text/plain": [
       "0.27295388450353136"
      ]
     },
     "execution_count": 357,
     "metadata": {},
     "output_type": "execute_result"
    }
   ],
   "source": [
    "perc_total_rides_suburban = total_suburban_rides / total_rides\n",
    "perc_total_rides_suburban"
   ]
  },
  {
   "cell_type": "code",
   "execution_count": 382,
   "metadata": {},
   "outputs": [
    {
     "data": {
      "image/png": "[encoded data removed]",
      "text/plain": [
       "<matplotlib.figure.Figure at 0x118441940>"
      ]
     },
     "metadata": {},
     "output_type": "display_data"
    }
   ],
   "source": [
    "labels = ['Urban', 'Suburban', 'Rural']\n",
    "sizes = [perc_total_fares_urban, perc_total_fares_suburban, perc_total_fares_rural]\n",
    "colors = ['gold','lightskyblue','lightcoral']\n",
    "\n",
    "explode = [0.1,0.1,0.1]\n",
    "plt.pie(sizes, explode=explode, labels=labels, colors=colors,\n",
    "       autopct=\"%1.1f%%\",shadow=True, startangle=140)\n",
    "plt.title('Percentace of Total Fares by City Type')\n",
    "plt.axis(\"equal\")\n",
    "plt.show()"
   ]
  },
  {
   "cell_type": "code",
   "execution_count": 384,
   "metadata": {},
   "outputs": [
    {
     "data": {
      "image/png": "[encoded data removed]",
      "text/plain": [
       "<matplotlib.figure.Figure at 0x1174bb860>"
      ]
     },
     "metadata": {},
     "output_type": "display_data"
    }
   ],
   "source": [
    "labels = ['Urban', 'Suburban', 'Rural']\n",
    "sizes = [perc_total_rides_urban, perc_total_rides_suburban, perc_total_rides_rural]\n",
    "colors = ['gold','lightskyblue','lightcoral']\n",
    "\n",
    "explode = [0.2,0.2,0.2]\n",
    "plt.pie(sizes, explode=explode, labels=labels, colors=colors,\n",
    "       autopct=\"%1.1f%%\",shadow=False, startangle=140)\n",
    "plt.title('Percentace of Total Rides by City Type')\n",
    "plt.axis(\"equal\")\n",
    "plt.show()"
   ]
  },
  {
   "cell_type": "code",
   "execution_count": null,
   "metadata": {
    "collapsed": true
   },
   "outputs": [],
   "source": []
  }
 ],
 "metadata": {
  "kernelspec": {
   "display_name": "Python 3",
   "language": "python",
   "name": "python3"
  },
  "language_info": {
   "codemirror_mode": {
    "name": "ipython",
    "version": 3
   },
   "file_extension": ".py",
   "mimetype": "text/x-python",
   "name": "python",
   "nbconvert_exporter": "python",
   "pygments_lexer": "ipython3",
   "version": "3.6.3"
  }
 },
 "nbformat": 4,
 "nbformat_minor": 2
}
