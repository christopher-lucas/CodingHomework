{
 "cells": [
  {
   "cell_type": "code",
   "execution_count": 51,
   "metadata": {
    "collapsed": true
   },
   "outputs": [],
   "source": [
    "import os\n",
    "import matplotlib.pyplot as plt\n",
    "import requests as req\n",
    "import pandas as pd"
   ]
  },
  {
   "cell_type": "code",
   "execution_count": 52,
   "metadata": {
    "collapsed": true
   },
   "outputs": [],
   "source": [
    "# Save config information.\n",
    "api_key = \"5115432d993d25be015121f9b5f69e81\"\n",
    "url = \"http://api.openweathermap.org/data/2.5/weather?\"\n",
    "units = \"imperial\"\n",
    "\n",
    "# Build partial query URL\n",
    "query_url = url + \"appid=\" + api_key + \"&units=\" + units + \"&q=\""
   ]
  },
  {
   "cell_type": "code",
   "execution_count": 53,
   "metadata": {},
   "outputs": [
    {
     "data": {
      "text/plain": [
       "[{'base': 'stations',\n",
       "  'clouds': {'all': 76},\n",
       "  'cod': 200,\n",
       "  'coord': {'lat': 50.2, 'lon': 10.66},\n",
       "  'dt': 1520035477,\n",
       "  'id': 2873228,\n",
       "  'main': {'grnd_level': 960.86,\n",
       "   'humidity': 78,\n",
       "   'pressure': 960.86,\n",
       "   'sea_level': 1016.97,\n",
       "   'temp': 16.22,\n",
       "   'temp_max': 16.22,\n",
       "   'temp_min': 16.22},\n",
       "  'name': 'Maroldsweisach',\n",
       "  'sys': {'country': 'DE',\n",
       "   'message': 0.0047,\n",
       "   'sunrise': 1520056626,\n",
       "   'sunset': 1520096540},\n",
       "  'weather': [{'description': 'broken clouds',\n",
       "    'icon': '04n',\n",
       "    'id': 803,\n",
       "    'main': 'Clouds'}],\n",
       "  'wind': {'deg': 76.5042, 'speed': 4.43}},\n",
       " {'base': 'stations',\n",
       "  'clouds': {'all': 48},\n",
       "  'cod': 200,\n",
       "  'coord': {'lat': -7.84, 'lon': -38.1},\n",
       "  'dt': 1520035478,\n",
       "  'id': 3391172,\n",
       "  'main': {'grnd_level': 959.24,\n",
       "   'humidity': 92,\n",
       "   'pressure': 959.24,\n",
       "   'sea_level': 1026.41,\n",
       "   'temp': 70.63,\n",
       "   'temp_max': 70.63,\n",
       "   'temp_min': 70.63},\n",
       "  'name': 'Triunfo',\n",
       "  'sys': {'country': 'BR',\n",
       "   'message': 0.0051,\n",
       "   'sunrise': 1520066232,\n",
       "   'sunset': 1520110276},\n",
       "  'weather': [{'description': 'scattered clouds',\n",
       "    'icon': '03n',\n",
       "    'id': 802,\n",
       "    'main': 'Clouds'}],\n",
       "  'wind': {'deg': 65.5042, 'speed': 3.31}},\n",
       " {'base': 'stations',\n",
       "  'clouds': {'all': 92},\n",
       "  'cod': 200,\n",
       "  'coord': {'lat': 29.76, 'lon': 109.23},\n",
       "  'dt': 1520035532,\n",
       "  'id': 1784461,\n",
       "  'main': {'grnd_level': 910.44,\n",
       "   'humidity': 100,\n",
       "   'pressure': 910.44,\n",
       "   'sea_level': 1023.17,\n",
       "   'temp': 45.88,\n",
       "   'temp_max': 45.88,\n",
       "   'temp_min': 45.88},\n",
       "  'name': 'Guantianba',\n",
       "  'sys': {'country': 'CN',\n",
       "   'message': 0.0036,\n",
       "   'sunrise': 1520032032,\n",
       "   'sunset': 1520073801},\n",
       "  'weather': [{'description': 'overcast clouds',\n",
       "    'icon': '04d',\n",
       "    'id': 804,\n",
       "    'main': 'Clouds'}],\n",
       "  'wind': {'deg': 228.004, 'speed': 1.63}},\n",
       " {'base': 'stations',\n",
       "  'clouds': {'all': 92},\n",
       "  'cod': 200,\n",
       "  'coord': {'lat': -0.68, 'lon': -80.02},\n",
       "  'dt': 1520035533,\n",
       "  'id': 3659139,\n",
       "  'main': {'grnd_level': 1001.55,\n",
       "   'humidity': 98,\n",
       "   'pressure': 1001.55,\n",
       "   'sea_level': 1023.17,\n",
       "   'temp': 73.06,\n",
       "   'temp_max': 73.06,\n",
       "   'temp_min': 73.06},\n",
       "  'name': 'Pueblito',\n",
       "  'rain': {'3h': 1.5375},\n",
       "  'sys': {'country': 'EC',\n",
       "   'message': 0.0041,\n",
       "   'sunrise': 1520076499,\n",
       "   'sunset': 1520120133},\n",
       "  'weather': [{'description': 'light rain',\n",
       "    'icon': '10n',\n",
       "    'id': 500,\n",
       "    'main': 'Rain'}],\n",
       "  'wind': {'deg': 316.504, 'speed': 4.76}},\n",
       " {'base': 'stations',\n",
       "  'clouds': {'all': 32},\n",
       "  'cod': 200,\n",
       "  'coord': {'lat': -12.06, 'lon': -77.04},\n",
       "  'dt': 1520035285,\n",
       "  'id': 3936456,\n",
       "  'main': {'grnd_level': 877.94,\n",
       "   'humidity': 62,\n",
       "   'pressure': 877.94,\n",
       "   'sea_level': 1024.67,\n",
       "   'temp': 65.77,\n",
       "   'temp_max': 65.77,\n",
       "   'temp_min': 65.77},\n",
       "  'name': 'Lima',\n",
       "  'sys': {'country': 'PE',\n",
       "   'message': 0.0031,\n",
       "   'sunrise': 1520075451,\n",
       "   'sunset': 1520119741},\n",
       "  'weather': [{'description': 'scattered clouds',\n",
       "    'icon': '03n',\n",
       "    'id': 802,\n",
       "    'main': 'Clouds'}],\n",
       "  'wind': {'deg': 187.504, 'speed': 2.64}},\n",
       " {'base': 'stations',\n",
       "  'clouds': {'all': 0},\n",
       "  'cod': 200,\n",
       "  'coord': {'lat': 30.38, 'lon': 30.98},\n",
       "  'dt': 1520033400,\n",
       "  'id': 360689,\n",
       "  'main': {'humidity': 63,\n",
       "   'pressure': 1014,\n",
       "   'temp': 64.4,\n",
       "   'temp_max': 64.4,\n",
       "   'temp_min': 64.4},\n",
       "  'name': 'Heit',\n",
       "  'sys': {'country': 'EG',\n",
       "   'id': 6392,\n",
       "   'message': 0.0041,\n",
       "   'sunrise': 1520050820,\n",
       "   'sunset': 1520092568,\n",
       "   'type': 1},\n",
       "  'visibility': 10000,\n",
       "  'weather': [{'description': 'clear sky',\n",
       "    'icon': '01n',\n",
       "    'id': 800,\n",
       "    'main': 'Clear'}],\n",
       "  'wind': {'deg': 70, 'speed': 3.36}}]"
      ]
     },
     "execution_count": 53,
     "metadata": {},
     "output_type": "execute_result"
    }
   ],
   "source": [
    "weather_data = []\n",
    "cities = [\"maroldsweisach\", \"triunfo\", \"guantianba\", \"pueblito\",\"lima\", \"heit\"]\n",
    "\n",
    "# Loop through the list of cities and perform a request for data on each\n",
    "for city in cities:\n",
    "    response = req.get(query_url + city).json()\n",
    "    weather_data.append(response)\n",
    "\n",
    "weather_data"
   ]
  },
  {
   "cell_type": "code",
   "execution_count": 54,
   "metadata": {},
   "outputs": [
    {
     "data": {
      "text/html": [
       "<div>\n",
       "<style>\n",
       "    .dataframe thead tr:only-child th {\n",
       "        text-align: right;\n",
       "    }\n",
       "\n",
       "    .dataframe thead th {\n",
       "        text-align: left;\n",
       "    }\n",
       "\n",
       "    .dataframe tbody tr th {\n",
       "        vertical-align: top;\n",
       "    }\n",
       "</style>\n",
       "<table border=\"1\" class=\"dataframe\">\n",
       "  <thead>\n",
       "    <tr style=\"text-align: right;\">\n",
       "      <th></th>\n",
       "      <th>cloud</th>\n",
       "      <th>hum</th>\n",
       "      <th>lat</th>\n",
       "      <th>temp</th>\n",
       "      <th>wind</th>\n",
       "    </tr>\n",
       "  </thead>\n",
       "  <tbody>\n",
       "    <tr>\n",
       "      <th>0</th>\n",
       "      <td>76</td>\n",
       "      <td>78</td>\n",
       "      <td>50.20</td>\n",
       "      <td>16.22</td>\n",
       "      <td>4.43</td>\n",
       "    </tr>\n",
       "    <tr>\n",
       "      <th>1</th>\n",
       "      <td>48</td>\n",
       "      <td>92</td>\n",
       "      <td>-7.84</td>\n",
       "      <td>70.63</td>\n",
       "      <td>3.31</td>\n",
       "    </tr>\n",
       "    <tr>\n",
       "      <th>2</th>\n",
       "      <td>92</td>\n",
       "      <td>100</td>\n",
       "      <td>29.76</td>\n",
       "      <td>45.88</td>\n",
       "      <td>1.63</td>\n",
       "    </tr>\n",
       "    <tr>\n",
       "      <th>3</th>\n",
       "      <td>92</td>\n",
       "      <td>98</td>\n",
       "      <td>-0.68</td>\n",
       "      <td>73.06</td>\n",
       "      <td>4.76</td>\n",
       "    </tr>\n",
       "    <tr>\n",
       "      <th>4</th>\n",
       "      <td>32</td>\n",
       "      <td>62</td>\n",
       "      <td>-12.06</td>\n",
       "      <td>65.77</td>\n",
       "      <td>2.64</td>\n",
       "    </tr>\n",
       "  </tbody>\n",
       "</table>\n",
       "</div>"
      ],
      "text/plain": [
       "   cloud  hum    lat   temp  wind\n",
       "0     76   78  50.20  16.22  4.43\n",
       "1     48   92  -7.84  70.63  3.31\n",
       "2     92  100  29.76  45.88  1.63\n",
       "3     92   98  -0.68  73.06  4.76\n",
       "4     32   62 -12.06  65.77  2.64"
      ]
     },
     "execution_count": 54,
     "metadata": {},
     "output_type": "execute_result"
    }
   ],
   "source": [
    "# Extract interesting data from responses\n",
    "lat_data = [data.get(\"coord\").get(\"lat\") for data in weather_data]\n",
    "temp_data = [data.get(\"main\").get(\"temp\") for data in weather_data]\n",
    "hum_data = [data.get(\"main\").get(\"humidity\") for data in weather_data]\n",
    "cloud_data = [data.get(\"clouds\").get(\"all\") for data in weather_data]\n",
    "wind_data = [data.get(\"wind\").get(\"speed\") for data in weather_data]\n",
    "\n",
    "weather_data = {\"temp\": temp_data, \"lat\": lat_data, 'hum': hum_data, 'cloud' : cloud_data, 'wind': wind_data,}\n",
    "weather_data = pd.DataFrame(weather_data)\n",
    "weather_data.head()"
   ]
  },
  {
   "cell_type": "code",
   "execution_count": 55,
   "metadata": {},
   "outputs": [
    {
     "data": {
      "image/png": "[encoded data removed]",
      "text/plain": [
       "<matplotlib.figure.Figure at 0x11b770128>"
      ]
     },
     "metadata": {},
     "output_type": "display_data"
    }
   ],
   "source": [
    "# Build a scatter plot for each data type\n",
    "plt.scatter(weather_data[\"lat\"], weather_data[\"temp\"], marker=\"o\")\n",
    "\n",
    "# Incorporate the other graph properties\n",
    "plt.title(\"Does Latitude Affect Temperature?\")\n",
    "plt.ylabel(\"Temperature (Farenhight)\")\n",
    "plt.xlabel(\"Latitude\")\n",
    "plt.grid(True)\n",
    "\n",
    "# Save the figure\n",
    "plt.savefig(\"lat_tem.jpg\")\n",
    "\n",
    "# Show plot\n",
    "plt.show()"
   ]
  },
  {
   "cell_type": "code",
   "execution_count": 56,
   "metadata": {},
   "outputs": [
    {
     "data": {
      "image/png": "[encoded data removed]",
      "text/plain": [
       "<matplotlib.figure.Figure at 0x117fde7b8>"
      ]
     },
     "metadata": {},
     "output_type": "display_data"
    }
   ],
   "source": [
    "# Build a scatter plot for each data type\n",
    "plt.scatter(weather_data[\"lat\"], weather_data[\"hum\"], marker=\"o\")\n",
    "\n",
    "# Incorporate the other graph properties\n",
    "plt.title(\"Does Latitude Affect Humidity?\")\n",
    "plt.ylabel(\"Humidity (%)\")\n",
    "plt.xlabel(\"Latitude\")\n",
    "plt.grid(True)\n",
    "\n",
    "# Save the figure\n",
    "plt.savefig(\"lat_hum.jpg\")\n",
    "\n",
    "# Show plot\n",
    "plt.show()"
   ]
  },
  {
   "cell_type": "code",
   "execution_count": 57,
   "metadata": {},
   "outputs": [
    {
     "data": {
      "image/png": "[encoded data removed]",
      "text/plain": [
       "<matplotlib.figure.Figure at 0x11ba42128>"
      ]
     },
     "metadata": {},
     "output_type": "display_data"
    }
   ],
   "source": [
    "# Build a scatter plot for each data type\n",
    "plt.scatter(weather_data[\"lat\"], weather_data[\"cloud\"], marker=\"o\")\n",
    "\n",
    "# Incorporate the other graph properties\n",
    "plt.title(\"Does Latitude Affect Cloud Cover?\")\n",
    "plt.ylabel(\"Cloudiness (%)\")\n",
    "plt.xlabel(\"Latitude\")\n",
    "plt.grid(True)\n",
    "\n",
    "# Save the figure\n",
    "plt.savefig(\"lat_cloud.jpg\")\n",
    "\n",
    "# Show plot\n",
    "plt.show()"
   ]
  },
  {
   "cell_type": "code",
   "execution_count": 58,
   "metadata": {},
   "outputs": [
    {
     "data": {
      "image/png": "[encoded data removed]",
      "text/plain": [
       "<matplotlib.figure.Figure at 0x11b776d68>"
      ]
     },
     "metadata": {},
     "output_type": "display_data"
    }
   ],
   "source": [
    "# Build a scatter plot for each data type\n",
    "plt.scatter(weather_data[\"lat\"], weather_data[\"wind\"], marker=\"o\")\n",
    "\n",
    "# Incorporate the other graph properties\n",
    "plt.title(\"Does Latitude Affect Wind Speed?\")\n",
    "plt.ylabel(\"Wind Speed (mph)\")\n",
    "plt.xlabel(\"Latitude\")\n",
    "plt.grid(True)\n",
    "\n",
    "# Save the figure\n",
    "plt.savefig(\"lat_wind.jpg\")\n",
    "\n",
    "# Show plot\n",
    "plt.show()"
   ]
  }
 ],
 "metadata": {
  "kernelspec": {
   "display_name": "Python 3",
   "language": "python",
   "name": "python3"
  },
  "language_info": {
   "codemirror_mode": {
    "name": "ipython",
    "version": 3
   },
   "file_extension": ".py",
   "mimetype": "text/x-python",
   "name": "python",
   "nbconvert_exporter": "python",
   "pygments_lexer": "ipython3",
   "version": "3.6.3"
  }
 },
 "nbformat": 4,
 "nbformat_minor": 2
}
