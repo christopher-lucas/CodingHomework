{
 "cells": [
  {
   "cell_type": "code",
   "execution_count": 28,
   "metadata": {
    "collapsed": true
   },
   "outputs": [],
   "source": [
    "import os\n",
    "import pandas as pd\n",
    "import numpy as np"
   ]
  },
  {
   "cell_type": "code",
   "execution_count": 29,
   "metadata": {},
   "outputs": [],
   "source": [
    "SchoolFile = os.path.join('04 Pandas', 'PyCitySchools', 'raw_data','schools_complete.csv')\n",
    "StudentFile = os.path.join('04 Pandas', 'PyCitySchools', 'raw_data','students_complete.csv')\n",
    "school_df = pd.read_csv(SchoolFile)\n",
    "student_df = pd.read_csv(StudentFile)\n",
    "school_df.rename(columns={'name': 'campus', 'School ID' : 'school_id'}, inplace=True)\n",
    "student_df.rename(columns={'school': 'campus', 'Student ID' : 'student_id', 'name' : 'student_name'}, inplace=True)\n",
    "ed_df = pd.merge(school_df, student_df, on='campus')\n",
    "school_name = school_df[('campus')]\n",
    "school_type = school_df[('type')]\n",
    "total_students = school_df[('size')]\n",
    "total_budget = school_df[('budget')]\n",
    "per_student_budget = np.divide(total_budget, total_students)\n",
    "grouped_campus = ed_df.groupby('campus')\n",
    "campus_math_average = grouped_campus[('math_score')].mean()\n",
    "campus_reading_average = grouped_campus[('reading_score')].mean()\n",
    "campus_overall_passing = round(grouped_campus[('reading_score')].mean() + grouped_campus[('math_score')].mean())/2"
   ]
  },
  {
   "cell_type": "code",
   "execution_count": 30,
   "metadata": {},
   "outputs": [],
   "source": [
    "campus_summary_df = pd.DataFrame({\"School Name\":[school_name],\n",
    "                          \"School Type\":[school_type],\n",
    "                          \"Total Students\":[total_students],\n",
    "                          \"Total Budget\":[total_budget],\n",
    "                          \"Per Student Budget\":[per_student_budget],\n",
    "                          \"Average Math Score\":[campus_math_average],\n",
    "                          \"Average Reading Score\":[campus_reading_average],\n",
    "                          \"Overall Passing Rate\":[campus_overall_passing]})"
   ]
  },
  {
   "cell_type": "code",
   "execution_count": 32,
   "metadata": {},
   "outputs": [
    {
     "name": "stdout",
     "output_type": "stream",
     "text": [
      "                                  Average Math Score  \\\n",
      "0  campus\n",
      "Bailey High School       77.048432\n",
      "Cabr...   \n",
      "\n",
      "                               Average Reading Score  \\\n",
      "0  campus\n",
      "Bailey High School       81.033963\n",
      "Cabr...   \n",
      "\n",
      "                                Overall Passing Rate  \\\n",
      "0  campus\n",
      "Bailey High School       79.0\n",
      "Cabrera H...   \n",
      "\n",
      "                                  Per Student Budget  \\\n",
      "0  0     655.0\n",
      "1     639.0\n",
      "2     600.0\n",
      "3     652....   \n",
      "\n",
      "                                         School Name  \\\n",
      "0  0         Huang High School\n",
      "1      Figueroa Hi...   \n",
      "\n",
      "                                         School Type  \\\n",
      "0  0     District\n",
      "1     District\n",
      "2      Charter\n",
      "3...   \n",
      "\n",
      "                                        Total Budget  \\\n",
      "0  0     1910635\n",
      "1     1884411\n",
      "2     1056600\n",
      "3   ...   \n",
      "\n",
      "                                      Total Students  \n",
      "0  0     2917\n",
      "1     2949\n",
      "2     1761\n",
      "3     4635\n",
      "4 ...  \n"
     ]
    }
   ],
   "source": [
    "print(campus_summary_df)"
   ]
  },
  {
   "cell_type": "code",
   "execution_count": null,
   "metadata": {
    "collapsed": true
   },
   "outputs": [],
   "source": []
  }
 ],
 "metadata": {
  "kernelspec": {
   "display_name": "Python 3",
   "language": "python",
   "name": "python3"
  },
  "language_info": {
   "codemirror_mode": {
    "name": "ipython",
    "version": 3
   },
   "file_extension": ".py",
   "mimetype": "text/x-python",
   "name": "python",
   "nbconvert_exporter": "python",
   "pygments_lexer": "ipython3",
   "version": "3.6.3"
  }
 },
 "nbformat": 4,
 "nbformat_minor": 2
}
