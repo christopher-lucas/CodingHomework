{
 "cells": [
  {
   "cell_type": "code",
   "execution_count": 52,
   "metadata": {
    "collapsed": true
   },
   "outputs": [],
   "source": [
    "import os\n",
    "import pandas as pd\n",
    "import numpy as np"
   ]
  },
  {
   "cell_type": "code",
   "execution_count": 58,
   "metadata": {},
   "outputs": [
    {
     "data": {
      "text/html": [
       "<div>\n",
       "<style>\n",
       "    .dataframe thead tr:only-child th {\n",
       "        text-align: right;\n",
       "    }\n",
       "\n",
       "    .dataframe thead th {\n",
       "        text-align: left;\n",
       "    }\n",
       "\n",
       "    .dataframe tbody tr th {\n",
       "        vertical-align: top;\n",
       "    }\n",
       "</style>\n",
       "<table border=\"1\" class=\"dataframe\">\n",
       "  <thead>\n",
       "    <tr style=\"text-align: right;\">\n",
       "      <th></th>\n",
       "      <th>% Passing Math</th>\n",
       "      <th>% Passing Reading</th>\n",
       "      <th>Average Math Score</th>\n",
       "      <th>Average Reading Score</th>\n",
       "      <th>Overall Passing Rate</th>\n",
       "      <th>Total Budget</th>\n",
       "      <th>Total Schools</th>\n",
       "      <th>Total Students</th>\n",
       "    </tr>\n",
       "  </thead>\n",
       "  <tbody>\n",
       "    <tr>\n",
       "      <th>0</th>\n",
       "      <td>72.0</td>\n",
       "      <td>83.0</td>\n",
       "      <td>79</td>\n",
       "      <td>82</td>\n",
       "      <td>78.0</td>\n",
       "      <td>24649428</td>\n",
       "      <td>15</td>\n",
       "      <td>39170</td>\n",
       "    </tr>\n",
       "  </tbody>\n",
       "</table>\n",
       "</div>"
      ],
      "text/plain": [
       "   % Passing Math  % Passing Reading  Average Math Score  \\\n",
       "0            72.0               83.0                  79   \n",
       "\n",
       "   Average Reading Score  Overall Passing Rate  Total Budget  Total Schools  \\\n",
       "0                     82                  78.0      24649428             15   \n",
       "\n",
       "   Total Students  \n",
       "0           39170  "
      ]
     },
     "execution_count": 58,
     "metadata": {},
     "output_type": "execute_result"
    }
   ],
   "source": [
    "SchoolFile = os.path.join('04 Pandas', 'PyCitySchools', 'raw_data','schools_complete.csv')\n",
    "StudentFile = os.path.join('04 Pandas', 'PyCitySchools', 'raw_data','students_complete.csv')\n",
    "school_df = pd.read_csv(SchoolFile)\n",
    "student_df = pd.read_csv(StudentFile)\n",
    "school_df.rename(columns={'name': 'campus', 'School ID' : 'school_id'}, inplace=True)\n",
    "student_df.rename(columns={'school': 'campus', 'Student ID' : 'student_id', 'name' : 'student_name'}, inplace=True)\n",
    "ed_df = pd.merge(school_df, student_df, on='campus')\n",
    "grouped_campus = ed_df.groupby('campus')\n",
    "campus_count = len(grouped_campus)\n",
    "total_students = ed_df[('student_id')].count()\n",
    "total_budget = school_df[('budget')].sum()\n",
    "average_math_score = round(ed_df[('math_score')].mean())\n",
    "average_reading_score = round(ed_df[('reading_score')].mean())\n",
    "count_passing_math_df = pd.DataFrame(ed_df.loc[(ed_df['math_score'] > 70)])\n",
    "percent_passing_math_prep = round(count_passing_math_df['math_score'].count()/ed_df['student_id'].count(),2)\n",
    "percent_passing_math = (percent_passing_math_prep*100)\n",
    "count_passing_reading_df = pd.DataFrame(ed_df.loc[(ed_df['reading_score'] > 70)])\n",
    "percent_passing_reading_prep = round(count_passing_reading_df['reading_score'].count()/ed_df['student_id'].count(),2)\n",
    "percent_passing_reading = (percent_passing_reading_prep*100)\n",
    "overall_passing_rate_prep = (percent_passing_math + percent_passing_reading)\n",
    "overall_passing_rate = round(overall_passing_rate_prep/2)\n",
    "ed_summary_df = pd.DataFrame({\"Total Students\":[total_students],\n",
    "                          \"Total Schools\":[campus_count],\n",
    "                          \"Total Budget\":[total_budget],\n",
    "                          \"Average Math Score\":[average_math_score],\n",
    "                          \"Average Reading Score\":[average_reading_score],\n",
    "                          \"% Passing Math\":[percent_passing_math],\n",
    "                          \"% Passing Reading\":[percent_passing_reading], \n",
    "                          \"Overall Passing Rate\":[overall_passing_rate]})\n",
    "\n",
    "ed_summary_df"
   ]
  },
  {
   "cell_type": "code",
   "execution_count": null,
   "metadata": {
    "collapsed": true
   },
   "outputs": [],
   "source": []
  }
 ],
 "metadata": {
  "kernelspec": {
   "display_name": "Python 3",
   "language": "python",
   "name": "python3"
  },
  "language_info": {
   "codemirror_mode": {
    "name": "ipython",
    "version": 3
   },
   "file_extension": ".py",
   "mimetype": "text/x-python",
   "name": "python",
   "nbconvert_exporter": "python",
   "pygments_lexer": "ipython3",
   "version": "3.6.3"
  }
 },
 "nbformat": 4,
 "nbformat_minor": 2
}
