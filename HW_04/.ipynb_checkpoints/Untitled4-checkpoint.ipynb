{
 "cells": [
  {
   "cell_type": "code",
   "execution_count": 1,
   "metadata": {
    "collapsed": true
   },
   "outputs": [],
   "source": [
    "import os\n",
    "import pandas as pd\n",
    "import numpy as np"
   ]
  },
  {
   "cell_type": "code",
   "execution_count": 79,
   "metadata": {},
   "outputs": [],
   "source": [
    "SchoolFile = os.path.join('04 Pandas', 'PyCitySchools', 'raw_data','schools_complete.csv')\n",
    "StudentFile = os.path.join('04 Pandas', 'PyCitySchools', 'raw_data','students_complete.csv')\n",
    "school_df = pd.read_csv(SchoolFile)\n",
    "student_df = pd.read_csv(StudentFile)\n",
    "school_df.rename(columns={'name': 'campus', 'School ID' : 'school_id'}, inplace=True)\n",
    "student_df.rename(columns={'school': 'campus', 'Student ID' : 'student_id', 'name' : 'student_name'}, inplace=True)\n",
    "ed_df = pd.merge(school_df, student_df, on='campus')\n",
    "school_name = school_df[('campus')]\n",
    "school_type = school_df[('type')]\n",
    "total_students = ed_df[\"campus\"].value_counts()\n",
    "total_budget = school_df[('budget')]\n",
    "per_student_budget = np.divide(total_budget, total_students)\n",
    "grouped_campus = ed_df.groupby('campus')\n",
    "campus_math_average = grouped_campus[('math_score')].mean()\n",
    "campus_reading_average = grouped_campus[('reading_score')].mean()\n",
    "passing_math_score = ed_df[(ed_df[\"math_score\"] > 70)]\n",
    "count_passing_math = passing_math_score[('student_id')].count()"
   ]
  },
  {
   "cell_type": "code",
   "execution_count": 80,
   "metadata": {},
   "outputs": [
    {
     "data": {
      "text/plain": [
       "Bailey High School       4976\n",
       "Johnson High School      4761\n",
       "Hernandez High School    4635\n",
       "Rodriguez High School    3999\n",
       "Figueroa High School     2949\n",
       "Huang High School        2917\n",
       "Ford High School         2739\n",
       "Wilson High School       2283\n",
       "Cabrera High School      1858\n",
       "Wright High School       1800\n",
       "Shelton High School      1761\n",
       "Thomas High School       1635\n",
       "Griffin High School      1468\n",
       "Pena High School          962\n",
       "Holden High School        427\n",
       "Name: campus, dtype: int64"
      ]
     },
     "execution_count": 80,
     "metadata": {},
     "output_type": "execute_result"
    }
   ],
   "source": [
    "total_students"
   ]
  },
  {
   "cell_type": "code",
   "execution_count": null,
   "metadata": {
    "collapsed": true
   },
   "outputs": [],
   "source": []
  }
 ],
 "metadata": {
  "kernelspec": {
   "display_name": "Python 3",
   "language": "python",
   "name": "python3"
  },
  "language_info": {
   "codemirror_mode": {
    "name": "ipython",
    "version": 3
   },
   "file_extension": ".py",
   "mimetype": "text/x-python",
   "name": "python",
   "nbconvert_exporter": "python",
   "pygments_lexer": "ipython3",
   "version": "3.6.3"
  }
 },
 "nbformat": 4,
 "nbformat_minor": 2
}
